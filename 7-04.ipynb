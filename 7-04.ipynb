{
 "metadata": {
  "language_info": {
   "codemirror_mode": {
    "name": "ipython",
    "version": 3
   },
   "file_extension": ".py",
   "mimetype": "text/x-python",
   "name": "python",
   "nbconvert_exporter": "python",
   "pygments_lexer": "ipython3",
   "version": "3.8.2-final"
  },
  "orig_nbformat": 2,
  "kernelspec": {
   "name": "python_defaultSpec_1598287482793",
   "display_name": "Python 3.8.2 32-bit"
  }
 },
 "nbformat": 4,
 "nbformat_minor": 2,
 "cells": [
  {
   "cell_type": "code",
   "execution_count": 3,
   "metadata": {
    "tags": []
   },
   "outputs": [
    {
     "output_type": "stream",
     "name": "stdout",
     "text": "try  +++++++++++++++++++++++++++\nException ++++++++++++++++++++++\ntest_list [0, 1, 2, 3, 4, 5, 6, 7, 8, 9, 10]\n\nFinally ++++++++++++++++++++++++\nfinally: clear test_list complete\ntest_list []\n"
    }
   ],
   "source": [
    "def generate_intlist(x):\n",
    "    test_list=[]\n",
    "    try:\n",
    "        print('try  +++++++++++++++++++++++++++')\n",
    "        for i in range(x):\n",
    "            test_list.append(i)\n",
    "            if i == 10:\n",
    "                raise Exception()\n",
    "        print(test_list)\n",
    "    except Exception as inst:\n",
    "        print('Exception ++++++++++++++++++++++')\n",
    "        print('test_list', test_list)\n",
    "        print(inst)\n",
    "    else:\n",
    "        print('Normal Fin ++++++++++++++++++++++')\n",
    "    finally:\n",
    "        print('Finally ++++++++++++++++++++++++')\n",
    "        test_list.clear()\n",
    "        print('finally: clear test_list complete')\n",
    "        print('test_list',test_list)\n",
    "\n",
    "test_list=[]\n",
    "generate_intlist(100)"
   ]
  },
  {
   "cell_type": "code",
   "execution_count": 8,
   "metadata": {},
   "outputs": [
    {
     "output_type": "error",
     "ename": "SyntaxError",
     "evalue": "invalid syntax (<ipython-input-8-da9fcf258337>, line 1)",
     "traceback": [
      "\u001b[1;36m  File \u001b[1;32m\"<ipython-input-8-da9fcf258337>\"\u001b[1;36m, line \u001b[1;32m1\u001b[0m\n\u001b[1;33m    f = open(\"test.txt\"):\u001b[0m\n\u001b[1;37m                        ^\u001b[0m\n\u001b[1;31mSyntaxError\u001b[0m\u001b[1;31m:\u001b[0m invalid syntax\n"
     ]
    }
   ],
   "source": [
    "f = open(\"test.txt\"):\n",
    "for text_line in f\n",
    "    print(text_line)"
   ]
  },
  {
   "cell_type": "code",
   "execution_count": 9,
   "metadata": {},
   "outputs": [
    {
     "output_type": "error",
     "ename": "FileNotFoundError",
     "evalue": "[Errno 2] No such file or directory: 'test.txt'",
     "traceback": [
      "\u001b[1;31m---------------------------------------------------------------------------\u001b[0m",
      "\u001b[1;31mFileNotFoundError\u001b[0m                         Traceback (most recent call last)",
      "\u001b[1;32m<ipython-input-9-136643e66ce7>\u001b[0m in \u001b[0;36m<module>\u001b[1;34m\u001b[0m\n\u001b[1;32m----> 1\u001b[1;33m \u001b[1;32mwith\u001b[0m \u001b[0mopen\u001b[0m\u001b[1;33m(\u001b[0m\u001b[1;34m'test.txt'\u001b[0m\u001b[1;33m)\u001b[0m\u001b[1;32mas\u001b[0m \u001b[0mf\u001b[0m\u001b[1;33m:\u001b[0m\u001b[1;33m\u001b[0m\u001b[1;33m\u001b[0m\u001b[0m\n\u001b[0m\u001b[0;32m      2\u001b[0m     \u001b[1;32mfor\u001b[0m \u001b[0mline\u001b[0m \u001b[1;32min\u001b[0m \u001b[0mf\u001b[0m\u001b[1;33m:\u001b[0m\u001b[1;33m\u001b[0m\u001b[1;33m\u001b[0m\u001b[0m\n\u001b[0;32m      3\u001b[0m         \u001b[0mprint\u001b[0m\u001b[1;33m(\u001b[0m\u001b[0mline\u001b[0m\u001b[1;33m,\u001b[0m \u001b[0mend\u001b[0m\u001b[1;33m=\u001b[0m\u001b[1;34m''\u001b[0m\u001b[1;33m)\u001b[0m\u001b[1;33m\u001b[0m\u001b[1;33m\u001b[0m\u001b[0m\n",
      "\u001b[1;31mFileNotFoundError\u001b[0m: [Errno 2] No such file or directory: 'test.txt'"
     ]
    }
   ],
   "source": [
    "with open('test.txt')as f:\n",
    "    for line in f:\n",
    "        print(line, end='')"
   ]
  },
  {
   "cell_type": "code",
   "execution_count": 10,
   "metadata": {},
   "outputs": [],
   "source": [
    "class ListInfo:\n",
    "    def __init__(self,my_list):\n",
    "        print('__init__')\n",
    "        self.my_list = my_list\n",
    "\n",
    "    def __enter__(self):\n",
    "        print('__enter__')\n",
    "        return self\n",
    "\n",
    "    def nth(self, n):\n",
    "        return self.my_list[n]\n",
    "\n",
    "    def __exit__(self, exc_type, exc_value, traceback):\n",
    "        print('__exit__')\n",
    "        self.my_list.clear()\n",
    "        print(' exc_type: ',exc_type)\n",
    "        print(' exc_value: ',exc_value)\n",
    "        print(' traceback: ',traceback)\n",
    "        return True"
   ]
  },
  {
   "cell_type": "code",
   "execution_count": 11,
   "metadata": {
    "tags": []
   },
   "outputs": [
    {
     "output_type": "stream",
     "name": "stdout",
     "text": "__init__\n__enter__\nnth_inf: a\n__exit__\n exc_type:  None\n exc_value:  None\n traceback:  None\n[]\n"
    }
   ],
   "source": [
    "my_list=['a','b','c','d','e']\n",
    "with ListInfo(my_list)as li:\n",
    "    print('nth_inf:', li.nth(0))\n",
    "print(my_list)"
   ]
  },
  {
   "cell_type": "code",
   "execution_count": 12,
   "metadata": {
    "tags": []
   },
   "outputs": [
    {
     "output_type": "stream",
     "name": "stdout",
     "text": "__init__\n__enter__\n__exit__\n exc_type:  <class 'IndexError'>\n exc_value:  list index out of range\n traceback:  <traceback object at 0x071A7C08>\n[]\n"
    }
   ],
   "source": [
    "my_list=['a','b','c','d','e']\n",
    "with ListInfo(my_list)as li:\n",
    "    print('nth_inf:', li.nth(10))\n",
    "print(my_list)"
   ]
  },
  {
   "cell_type": "code",
   "execution_count": 13,
   "metadata": {
    "tags": []
   },
   "outputs": [
    {
     "output_type": "stream",
     "name": "stdout",
     "text": "Hello out_test.txt"
    }
   ],
   "source": [
    "fname = 'out_test.txt'\n",
    "s='Hello out_test.txt'\n",
    "with open(fname,'w')as f:\n",
    "    f.write(s)\n",
    "\n",
    "with open(fname,'r')as f:\n",
    "    for line in f:\n",
    "        print(line, end=\"\")"
   ]
  },
  {
   "cell_type": "code",
   "execution_count": 14,
   "metadata": {
    "tags": []
   },
   "outputs": [
    {
     "output_type": "stream",
     "name": "stdout",
     "text": "try\nfinally\n"
    }
   ],
   "source": [
    "def test_function():\n",
    "    try:\n",
    "        print('try')\n",
    "        return\n",
    "    except:\n",
    "        print('except')\n",
    "    else:\n",
    "        print('else')\n",
    "    finally:\n",
    "        print('finally')\n",
    "\n",
    "test_function()"
   ]
  },
  {
   "cell_type": "code",
   "execution_count": null,
   "metadata": {},
   "outputs": [],
   "source": []
  }
 ]
}