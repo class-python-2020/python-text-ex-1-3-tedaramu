{
 "metadata": {
  "language_info": {
   "codemirror_mode": {
    "name": "ipython",
    "version": 3
   },
   "file_extension": ".py",
   "mimetype": "text/x-python",
   "name": "python",
   "nbconvert_exporter": "python",
   "pygments_lexer": "ipython3",
   "version": 3
  },
  "orig_nbformat": 2
 },
 "nbformat": 4,
 "nbformat_minor": 2,
 "cells": [
  {
   "cell_type": "code",
   "execution_count": null,
   "metadata": {},
   "outputs": [],
   "source": [
    "#グローバル変数を定義します\n",
    "animal = 'cat'\n",
    "#グローバル変数をプリントします\n",
    "print(\"animal:\", animal)\n",
    "\n",
    "def my_func():\n",
    "    #ローカル変数を定義します\n",
    "    vegetable = 'carrot'\n",
    "    #関数の中でグローバル変数の値をプリントします\n",
    "    print(\"animal in my_func:\")"
   ]
  }
 ]
}