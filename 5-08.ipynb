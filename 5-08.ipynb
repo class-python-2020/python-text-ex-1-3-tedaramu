{
 "metadata": {
  "language_info": {
   "codemirror_mode": {
    "name": "ipython",
    "version": 3
   },
   "file_extension": ".py",
   "mimetype": "text/x-python",
   "name": "python",
   "nbconvert_exporter": "python",
   "pygments_lexer": "ipython3",
   "version": "3.8.2-final"
  },
  "orig_nbformat": 2,
  "kernelspec": {
   "name": "python_defaultSpec_1598170873445",
   "display_name": "Python 3.8.2 32-bit"
  }
 },
 "nbformat": 4,
 "nbformat_minor": 2,
 "cells": [
  {
   "cell_type": "code",
   "execution_count": 1,
   "metadata": {},
   "outputs": [
    {
     "output_type": "execute_result",
     "data": {
      "text/plain": "{0: 0, 1: 1, 2: 4, 3: 9, 4: 16, 5: 25, 6: 36, 7: 49, 8: 64, 9: 81, 10: 100}"
     },
     "metadata": {},
     "execution_count": 1
    }
   ],
   "source": [
    "square_dict = {x: x*x for x in range(11)}\n",
    "square_dict"
   ]
  },
  {
   "cell_type": "code",
   "execution_count": 2,
   "metadata": {},
   "outputs": [
    {
     "output_type": "execute_result",
     "data": {
      "text/plain": "{(0, 0): 0, (0, 1): 0, (1, 0): 0, (1, 1): 1}"
     },
     "metadata": {},
     "execution_count": 2
    }
   ],
   "source": [
    "multiplicated_xy_dict={(x,y):x*y for x in range(2) for y in range(2)}\n",
    "multiplicated_xy_dict"
   ]
  },
  {
   "cell_type": "code",
   "execution_count": 3,
   "metadata": {},
   "outputs": [
    {
     "output_type": "execute_result",
     "data": {
      "text/plain": "{('hokkaido', 'sapporo'): 100,\n ('hokkaido', 'hakodate'): 200,\n ('tokyo', 'minato'): 300,\n ('kanagawa', 'yokohama'): 400}"
     },
     "metadata": {},
     "execution_count": 3
    }
   ],
   "source": [
    "prefectures =['hokkaido','hokkaido','tokyo','kanagawa']\n",
    "cities = ['sapporo','hakodate','minato','yokohama']\n",
    "populations =[100,200,300,400]\n",
    "population_dict = {(state,city):population for state, city, population in zip(prefectures, cities, populations)}\n",
    "population_dict"
   ]
  },
  {
   "cell_type": "code",
   "execution_count": 4,
   "metadata": {},
   "outputs": [
    {
     "output_type": "execute_result",
     "data": {
      "text/plain": "{frozenset({0}): 0, frozenset({0, 1}): 0, frozenset({1}): 1}"
     },
     "metadata": {},
     "execution_count": 4
    }
   ],
   "source": [
    "multiplicated_xy_setdict = {frozenset([x,y]):x*y for x in range(2) for y in range(2)}\n",
    "multiplicated_xy_setdict"
   ]
  },
  {
   "cell_type": "code",
   "execution_count": 7,
   "metadata": {},
   "outputs": [
    {
     "output_type": "execute_result",
     "data": {
      "text/plain": "{0: {0: 0, 1: 0, 2: 0}, 1: {0: 0, 1: 1, 2: 2}, 2: {0: 0, 1: 2, 2: 4}}"
     },
     "metadata": {},
     "execution_count": 7
    }
   ],
   "source": [
    "{0:{0:0,1:0,2:0},1:{0:0,1:1,2:2},2:{0:0,1:2,2:4}}"
   ]
  },
  {
   "cell_type": "code",
   "execution_count": 8,
   "metadata": {},
   "outputs": [
    {
     "output_type": "execute_result",
     "data": {
      "text/plain": "{0: {0: 0, 1: 0, 2: 0}, 1: {0: 0, 1: 1, 2: 2}, 2: {0: 0, 1: 2, 2: 4}}"
     },
     "metadata": {},
     "execution_count": 8
    }
   ],
   "source": [
    "multiplicated_xy_dict={}\n",
    "I = 3\n",
    "J = 3\n",
    "for i in range(I):\n",
    "    multiplicated_xy_dict[i]={}\n",
    "    for j in range(J):\n",
    "        multiplicated_xy_dict[i][j]=i*j\n",
    "multiplicated_xy_dict"
   ]
  },
  {
   "cell_type": "code",
   "execution_count": 9,
   "metadata": {},
   "outputs": [
    {
     "output_type": "execute_result",
     "data": {
      "text/plain": "{0: {0: 0, 1: 0, 2: 0}, 1: {0: 0, 1: 1, 2: 2}, 2: {0: 0, 1: 2, 2: 4}}"
     },
     "metadata": {},
     "execution_count": 9
    }
   ],
   "source": [
    "I=3\n",
    "J=3\n",
    "multiplicated_xy_dict={i:{j:(i*j)for j in range(J)}for i in range(I)}\n",
    "multiplicated_xy_dict"
   ]
  },
  {
   "cell_type": "code",
   "execution_count": 10,
   "metadata": {},
   "outputs": [
    {
     "output_type": "execute_result",
     "data": {
      "text/plain": "4"
     },
     "metadata": {},
     "execution_count": 10
    }
   ],
   "source": [
    "multiplicated_xy_dict[2][2]"
   ]
  },
  {
   "cell_type": "code",
   "execution_count": 11,
   "metadata": {
    "tags": []
   },
   "outputs": [
    {
     "output_type": "stream",
     "name": "stdout",
     "text": "key1\tkey2\tval\n0\t0\t0\n0\t1\t0\n0\t2\t0\n1\t0\t0\n1\t1\t1\n1\t2\t2\n2\t0\t0\n2\t1\t2\n2\t2\t4\n"
    }
   ],
   "source": [
    "print('key1','key2','val',sep='\\t')\n",
    "for i, v1 in multiplicated_xy_dict.items():\n",
    "    for j, v2 in v1.items():\n",
    "        print(i,j,v2,sep='\\t')"
   ]
  },
  {
   "cell_type": "code",
   "execution_count": 12,
   "metadata": {
    "tags": []
   },
   "outputs": [
    {
     "output_type": "stream",
     "name": "stdout",
     "text": "iceland {'code': 353, 'capital': 'dublin'}\nazerbaidjan {'code': 994, 'capital': 'baku'}\n"
    }
   ],
   "source": [
    "country_code={'iceland':{'code':354,'capital':'reykjavik'},'iceland':{'code':353,'capital':'dublin'},'azerbaidjan':{'code':994,'capital':'baku'}}\n",
    "\n",
    "def getstr_keyval(x):\n",
    "    if isinstance(x,dict):\n",
    "        return x\n",
    "\n",
    "    my_str=''\n",
    "    for key,val in x.items():\n",
    "        my_str += (' '+str(key)+' '+getstr_keyval(val))\n",
    "    return my_str\n",
    "\n",
    "for key1,val1 in country_code.items():\n",
    "    print(key1, getstr_keyval(val1))"
   ]
  },
  {
   "cell_type": "code",
   "execution_count": 13,
   "metadata": {},
   "outputs": [
    {
     "output_type": "execute_result",
     "data": {
      "text/plain": "[['01', '0001', 'male', 'yamada', 'tarou', 25, 'tokyo'],\n ['01', '0002', 'male', 'satou', 'takeshi', 27, 'kanagawa'],\n ['01', '0003', 'female', 'tanaka', 'yuko', 25, 'saitama'],\n ['02', '0001', 'male', 'smith', 'mike', 22, 'newjersey'],\n ['02', '0002', 'male', 'turner', 'tom', 27, 'kansas'],\n ['02', '0003', 'male', 'jackson', 'david', 22, 'florida']]"
     },
     "metadata": {},
     "execution_count": 13
    }
   ],
   "source": [
    "#表データの作成\n",
    "data = [['01','0001','male','yamada','tarou',25,'tokyo'],['01','0002','male','satou','takeshi',27,'kanagawa'],['01','0003','female','tanaka','yuko',25,'saitama'],['02','0001','male','smith','mike',22,'newjersey'],['02','0002','male','turner','tom',27,'kansas'],['02','0003','male','jackson','david',22,'florida']]\n",
    "data"
   ]
  },
  {
   "cell_type": "code",
   "execution_count": 14,
   "metadata": {},
   "outputs": [],
   "source": [
    "#辞書変数生成\n",
    "member_infomation={}\n",
    "\n",
    "#表データをレコード毎に格納する\n",
    "for record in data:\n",
    "    key=(record[0],record[1])\n",
    "    info = record[2:]\n",
    "    member_infomation[key] = info"
   ]
  },
  {
   "cell_type": "code",
   "execution_count": 15,
   "metadata": {
    "tags": []
   },
   "outputs": [
    {
     "output_type": "stream",
     "name": "stdout",
     "text": "number\\pinformation\n('01', '0001') ['male', 'yamada', 'tarou', 25, 'tokyo']\n('01', '0002') ['male', 'satou', 'takeshi', 27, 'kanagawa']\n('01', '0003') ['female', 'tanaka', 'yuko', 25, 'saitama']\n('02', '0001') ['male', 'smith', 'mike', 22, 'newjersey']\n('02', '0002') ['male', 'turner', 'tom', 27, 'kansas']\n('02', '0003') ['male', 'jackson', 'david', 22, 'florida']\n"
    }
   ],
   "source": [
    "#結果を表示する\n",
    "print('number','information',sep='\\p')\n",
    "for key, info in member_infomation.items():\n",
    "    print(key, info)"
   ]
  },
  {
   "cell_type": "code",
   "execution_count": null,
   "metadata": {},
   "outputs": [],
   "source": []
  }
 ]
}