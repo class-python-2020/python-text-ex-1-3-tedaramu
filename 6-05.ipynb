{
 "metadata": {
  "language_info": {
   "codemirror_mode": {
    "name": "ipython",
    "version": 3
   },
   "file_extension": ".py",
   "mimetype": "text/x-python",
   "name": "python",
   "nbconvert_exporter": "python",
   "pygments_lexer": "ipython3",
   "version": "3.8.2-final"
  },
  "orig_nbformat": 2,
  "kernelspec": {
   "name": "python_defaultSpec_1598192550586",
   "display_name": "Python 3.8.2 32-bit"
  }
 },
 "nbformat": 4,
 "nbformat_minor": 2,
 "cells": [
  {
   "cell_type": "code",
   "execution_count": 1,
   "metadata": {},
   "outputs": [],
   "source": [
    "def func(v):\n",
    "    i = v + 3\n",
    "    return i"
   ]
  },
  {
   "cell_type": "code",
   "execution_count": 2,
   "metadata": {},
   "outputs": [
    {
     "output_type": "execute_result",
     "data": {
      "text/plain": "8"
     },
     "metadata": {},
     "execution_count": 2
    }
   ],
   "source": [
    "import my_module\n",
    "my_module.func(5)"
   ]
  },
  {
   "cell_type": "code",
   "execution_count": 4,
   "metadata": {},
   "outputs": [
    {
     "output_type": "error",
     "ename": "SyntaxError",
     "evalue": "invalid syntax (<ipython-input-4-d946ab3baa8c>, line 13)",
     "traceback": [
      "\u001b[1;36m  File \u001b[1;32m\"<ipython-input-4-d946ab3baa8c>\"\u001b[1;36m, line \u001b[1;32m13\u001b[0m\n\u001b[1;33m    def sum(self):\u001b[0m\n\u001b[1;37m    ^\u001b[0m\n\u001b[1;31mSyntaxError\u001b[0m\u001b[1;31m:\u001b[0m invalid syntax\n"
     ]
    }
   ],
   "source": [
    "def func(v):\n",
    "    i=v+3\n",
    "    return i\n",
    "\n",
    "class myclass:\n",
    "    def __init__(self, a=1, b=2):\n",
    "        self.a = a\n",
    "        self.b = b\n",
    "\n",
    "    def show_attributes(self):\n",
    "        print(\"a={},b={},sum:{}\".format(self.a,self.b,self.sum())\n",
    "\n",
    "    def sum(self):\n",
    "        return self.a + self.b"
   ]
  },
  {
   "cell_type": "code",
   "execution_count": 5,
   "metadata": {},
   "outputs": [
    {
     "output_type": "error",
     "ename": "ModuleNotFoundError",
     "evalue": "No module named 'my_module1'",
     "traceback": [
      "\u001b[1;31m---------------------------------------------------------------------------\u001b[0m",
      "\u001b[1;31mModuleNotFoundError\u001b[0m                       Traceback (most recent call last)",
      "\u001b[1;32m<ipython-input-5-8317ffeacbb0>\u001b[0m in \u001b[0;36m<module>\u001b[1;34m\u001b[0m\n\u001b[1;32m----> 1\u001b[1;33m \u001b[1;32mimport\u001b[0m \u001b[0mmy_module1\u001b[0m\u001b[1;33m\u001b[0m\u001b[1;33m\u001b[0m\u001b[0m\n\u001b[0m\u001b[0;32m      2\u001b[0m \u001b[0mmy_class\u001b[0m \u001b[1;33m=\u001b[0m \u001b[0mmy_module1\u001b[0m\u001b[1;33m.\u001b[0m\u001b[0mmyclass\u001b[0m\u001b[1;33m(\u001b[0m\u001b[1;36m3\u001b[0m\u001b[1;33m,\u001b[0m\u001b[1;36m5\u001b[0m\u001b[1;33m)\u001b[0m\u001b[1;33m\u001b[0m\u001b[1;33m\u001b[0m\u001b[0m\n\u001b[0;32m      3\u001b[0m \u001b[0mmy_class\u001b[0m\u001b[1;33m.\u001b[0m\u001b[0mshow_attributes\u001b[0m\u001b[1;33m(\u001b[0m\u001b[1;33m)\u001b[0m\u001b[1;33m\u001b[0m\u001b[1;33m\u001b[0m\u001b[0m\n\u001b[0;32m      4\u001b[0m \u001b[0mmy_module1\u001b[0m\u001b[1;33m.\u001b[0m\u001b[0mfunc\u001b[0m\u001b[1;33m(\u001b[0m\u001b[1;36m10\u001b[0m\u001b[1;33m)\u001b[0m\u001b[1;33m\u001b[0m\u001b[1;33m\u001b[0m\u001b[0m\n",
      "\u001b[1;31mModuleNotFoundError\u001b[0m: No module named 'my_module1'"
     ]
    }
   ],
   "source": [
    "import my_module1\n",
    "my_class = my_module1.myclass(3,5)\n",
    "my_class.show_attributes()\n",
    "my_module1.func(10)"
   ]
  },
  {
   "cell_type": "code",
   "execution_count": 6,
   "metadata": {},
   "outputs": [
    {
     "output_type": "error",
     "ename": "SyntaxError",
     "evalue": "invalid syntax (<ipython-input-6-3b8fcd959949>, line 14)",
     "traceback": [
      "\u001b[1;36m  File \u001b[1;32m\"<ipython-input-6-3b8fcd959949>\"\u001b[1;36m, line \u001b[1;32m14\u001b[0m\n\u001b[1;33m    def sum(self):\u001b[0m\n\u001b[1;37m    ^\u001b[0m\n\u001b[1;31mSyntaxError\u001b[0m\u001b[1;31m:\u001b[0m invalid syntax\n"
     ]
    }
   ],
   "source": [
    "print(\"__name__:\",__name__)\n",
    "def func(v):\n",
    "    i = v+3\n",
    "    return i \n",
    "\n",
    "class MyClass:\n",
    "        def __init__(self, a=1, b=2):\n",
    "            self.a = a\n",
    "            self.b = b\n",
    "\n",
    "        def show_attributes(self):\n",
    "            print(\"a={},b={},sum:{}\".format(self.a,self.b,self.sum())\n",
    "\n",
    "        def sum(self):\n",
    "            return self.a + self.b\n",
    "    \n",
    "if __name__ == \"__main__\":\n",
    "    my_class = MyClass(3,5)\n",
    "    my_class.show_attributes()"
   ]
  },
  {
   "cell_type": "code",
   "execution_count": 8,
   "metadata": {
    "tags": []
   },
   "outputs": [
    {
     "output_type": "stream",
     "name": "stderr",
     "text": "Python was not found but can be installed from the Microsoft Store: https://go.microsoft.com/fwlink?linkID=2082640\n"
    }
   ],
   "source": [
    "!python3 my_module2.py"
   ]
  },
  {
   "cell_type": "code",
   "execution_count": 9,
   "metadata": {},
   "outputs": [
    {
     "output_type": "error",
     "ename": "ModuleNotFoundError",
     "evalue": "No module named 'my_module2'",
     "traceback": [
      "\u001b[1;31m---------------------------------------------------------------------------\u001b[0m",
      "\u001b[1;31mModuleNotFoundError\u001b[0m                       Traceback (most recent call last)",
      "\u001b[1;32m<ipython-input-9-38c922b6d409>\u001b[0m in \u001b[0;36m<module>\u001b[1;34m\u001b[0m\n\u001b[1;32m----> 1\u001b[1;33m \u001b[1;32mimport\u001b[0m \u001b[0mmy_module2\u001b[0m\u001b[1;33m\u001b[0m\u001b[1;33m\u001b[0m\u001b[0m\n\u001b[0m\u001b[0;32m      2\u001b[0m \u001b[0mm2\u001b[0m \u001b[1;33m=\u001b[0m \u001b[0mmy_module2\u001b[0m\u001b[1;33m.\u001b[0m\u001b[0mMyClass\u001b[0m\u001b[1;33m(\u001b[0m\u001b[1;36m3\u001b[0m\u001b[1;33m,\u001b[0m\u001b[1;36m5\u001b[0m\u001b[1;33m)\u001b[0m\u001b[1;33m\u001b[0m\u001b[1;33m\u001b[0m\u001b[0m\n\u001b[0;32m      3\u001b[0m \u001b[0mm2\u001b[0m\u001b[1;33m.\u001b[0m\u001b[0mshow_attributes\u001b[0m\u001b[1;33m(\u001b[0m\u001b[1;33m)\u001b[0m\u001b[1;33m\u001b[0m\u001b[1;33m\u001b[0m\u001b[0m\n",
      "\u001b[1;31mModuleNotFoundError\u001b[0m: No module named 'my_module2'"
     ]
    }
   ],
   "source": [
    "import my_module2\n",
    "m2 = my_module2.MyClass(3,5)\n",
    "m2.show_attributes()"
   ]
  },
  {
   "cell_type": "code",
   "execution_count": 22,
   "metadata": {},
   "outputs": [
    {
     "output_type": "error",
     "ename": "AttributeError",
     "evalue": "module 'my_package.module_a' has no attribute 'func_in_module_under_dir'",
     "traceback": [
      "\u001b[1;31m---------------------------------------------------------------------------\u001b[0m",
      "\u001b[1;31mAttributeError\u001b[0m                            Traceback (most recent call last)",
      "\u001b[1;32m<ipython-input-22-a2f72b2d75a3>\u001b[0m in \u001b[0;36m<module>\u001b[1;34m\u001b[0m\n\u001b[0;32m      1\u001b[0m \u001b[1;32mimport\u001b[0m \u001b[0mmy_package\u001b[0m\u001b[1;33m.\u001b[0m\u001b[0mmodule_a\u001b[0m\u001b[1;33m\u001b[0m\u001b[1;33m\u001b[0m\u001b[0m\n\u001b[0;32m      2\u001b[0m \u001b[1;33m\u001b[0m\u001b[0m\n\u001b[1;32m----> 3\u001b[1;33m \u001b[0mmy_package\u001b[0m\u001b[1;33m.\u001b[0m\u001b[0mmodule_a\u001b[0m\u001b[1;33m.\u001b[0m\u001b[0mfunc_in_module_under_dir\u001b[0m\u001b[1;33m(\u001b[0m\u001b[1;33m)\u001b[0m\u001b[1;33m\u001b[0m\u001b[1;33m\u001b[0m\u001b[0m\n\u001b[0m",
      "\u001b[1;31mAttributeError\u001b[0m: module 'my_package.module_a' has no attribute 'func_in_module_under_dir'"
     ]
    }
   ],
   "source": [
    "import my_package.module_a\n",
    "\n",
    "my_package.module_a.func_in_module_under_dir()"
   ]
  },
  {
   "cell_type": "code",
   "execution_count": 23,
   "metadata": {},
   "outputs": [],
   "source": [
    "def my_pow(x,y):\n",
    "    return x**y"
   ]
  },
  {
   "cell_type": "code",
   "execution_count": 24,
   "metadata": {},
   "outputs": [],
   "source": [
    "with open(\"my_math.py\",\"w\")as f:\n",
    "    f.write(\"\"\"def my_pow(x,y):return x ** y\\n\"\"\")"
   ]
  },
  {
   "cell_type": "code",
   "execution_count": 25,
   "metadata": {},
   "outputs": [
    {
     "output_type": "execute_result",
     "data": {
      "text/plain": "32"
     },
     "metadata": {},
     "execution_count": 25
    }
   ],
   "source": [
    "import my_math\n",
    "my_math.my_pow(2,5)"
   ]
  },
  {
   "cell_type": "code",
   "execution_count": 26,
   "metadata": {},
   "outputs": [
    {
     "output_type": "execute_result",
     "data": {
      "text/plain": "1.4142135623730951"
     },
     "metadata": {},
     "execution_count": 26
    }
   ],
   "source": [
    "my_math.my_pow(2,0.5)"
   ]
  },
  {
   "cell_type": "code",
   "execution_count": 27,
   "metadata": {},
   "outputs": [
    {
     "output_type": "execute_result",
     "data": {
      "text/plain": "(1.2246467991473532e-16+2j)"
     },
     "metadata": {},
     "execution_count": 27
    }
   ],
   "source": [
    "ans = my_math.my_pow(-4,0.5)\n",
    "ans"
   ]
  },
  {
   "cell_type": "code",
   "execution_count": 28,
   "metadata": {
    "tags": []
   },
   "outputs": [
    {
     "output_type": "stream",
     "name": "stdout",
     "text": "実数成分: 1.2246467991473532e-16,虚数成分:2.0\n"
    }
   ],
   "source": [
    "print(\"実数成分: {},虚数成分:{}\".format(ans.real,ans.imag))"
   ]
  },
  {
   "cell_type": "code",
   "execution_count": 30,
   "metadata": {},
   "outputs": [],
   "source": [
    "with open(\"my_math2.py\",\"w\")as f:\n",
    "    f.writelines('''def my_pow(x,y):\n",
    "    return x ** y\n",
    "if __name__ == \"__main__\":\n",
    "    x,y,exp=2,5,32\n",
    "    ans = my_pow(x,y)\n",
    "    print(\"test my_pow({},{})->{},exp:{} ----\".format(x,y,ans,exp), end=\"\")\n",
    "    if ans == exp:\n",
    "        print(\"test OK\")\n",
    "    else:\n",
    "        print(\"test fail\")\\n''')"
   ]
  },
  {
   "cell_type": "code",
   "execution_count": 31,
   "metadata": {
    "tags": []
   },
   "outputs": [
    {
     "output_type": "stream",
     "name": "stderr",
     "text": "Python was not found but can be installed from the Microsoft Store: https://go.microsoft.com/fwlink?linkID=2082640\n"
    }
   ],
   "source": [
    "!python3 my_math2.py"
   ]
  },
  {
   "cell_type": "code",
   "execution_count": 33,
   "metadata": {},
   "outputs": [
    {
     "output_type": "execute_result",
     "data": {
      "text/plain": "32"
     },
     "metadata": {},
     "execution_count": 33
    }
   ],
   "source": [
    "import my_math2\n",
    "my_math2.my_pow(2,5)"
   ]
  },
  {
   "cell_type": "code",
   "execution_count": null,
   "metadata": {},
   "outputs": [],
   "source": []
  }
 ]
}