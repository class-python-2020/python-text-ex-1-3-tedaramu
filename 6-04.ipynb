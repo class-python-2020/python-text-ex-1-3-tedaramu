{
 "metadata": {
  "language_info": {
   "codemirror_mode": {
    "name": "ipython",
    "version": 3
   },
   "file_extension": ".py",
   "mimetype": "text/x-python",
   "name": "python",
   "nbconvert_exporter": "python",
   "pygments_lexer": "ipython3",
   "version": "3.8.2-final"
  },
  "orig_nbformat": 2,
  "kernelspec": {
   "name": "python_defaultSpec_1598187446221",
   "display_name": "Python 3.8.2 32-bit"
  }
 },
 "nbformat": 4,
 "nbformat_minor": 2,
 "cells": [
  {
   "cell_type": "code",
   "execution_count": 1,
   "metadata": {
    "tags": []
   },
   "outputs": [
    {
     "output_type": "stream",
     "name": "stdout",
     "text": "0 1 2"
    }
   ],
   "source": [
    "for i in range(3):\n",
    "    print(i, end=\" \")"
   ]
  },
  {
   "cell_type": "code",
   "execution_count": 2,
   "metadata": {
    "tags": []
   },
   "outputs": [
    {
     "output_type": "stream",
     "name": "stdout",
     "text": "1 2 3"
    }
   ],
   "source": [
    "for j in [1,2,3]:\n",
    "    print(j,end=\" \")"
   ]
  },
  {
   "cell_type": "code",
   "execution_count": 4,
   "metadata": {},
   "outputs": [
    {
     "output_type": "execute_result",
     "data": {
      "text/plain": "0"
     },
     "metadata": {},
     "execution_count": 4
    }
   ],
   "source": [
    "#シーケンスからイテレータオブジェクトを生成する\n",
    "itr = iter([0,1,2])\n",
    "\n",
    "#次の値を参照する\n",
    "next(itr)"
   ]
  },
  {
   "cell_type": "code",
   "execution_count": 5,
   "metadata": {},
   "outputs": [
    {
     "output_type": "execute_result",
     "data": {
      "text/plain": "1"
     },
     "metadata": {},
     "execution_count": 5
    }
   ],
   "source": [
    "#次の値を参照する\n",
    "next(itr)"
   ]
  },
  {
   "cell_type": "code",
   "execution_count": 6,
   "metadata": {},
   "outputs": [
    {
     "output_type": "execute_result",
     "data": {
      "text/plain": "2"
     },
     "metadata": {},
     "execution_count": 6
    }
   ],
   "source": [
    "#次の値を参照する\n",
    "next(itr)"
   ]
  },
  {
   "cell_type": "code",
   "execution_count": 7,
   "metadata": {},
   "outputs": [
    {
     "output_type": "error",
     "ename": "StopIteration",
     "evalue": "",
     "traceback": [
      "\u001b[1;31m---------------------------------------------------------------------------\u001b[0m",
      "\u001b[1;31mStopIteration\u001b[0m                             Traceback (most recent call last)",
      "\u001b[1;32m<ipython-input-7-59f66b6926f9>\u001b[0m in \u001b[0;36m<module>\u001b[1;34m\u001b[0m\n\u001b[0;32m      1\u001b[0m \u001b[1;31m#次の値を参照する\u001b[0m\u001b[1;33m\u001b[0m\u001b[1;33m\u001b[0m\u001b[1;33m\u001b[0m\u001b[0m\n\u001b[1;32m----> 2\u001b[1;33m \u001b[0mnext\u001b[0m\u001b[1;33m(\u001b[0m\u001b[0mitr\u001b[0m\u001b[1;33m)\u001b[0m\u001b[1;33m\u001b[0m\u001b[1;33m\u001b[0m\u001b[0m\n\u001b[0m",
      "\u001b[1;31mStopIteration\u001b[0m: "
     ]
    }
   ],
   "source": [
    "#次の値を参照する\n",
    "next(itr)"
   ]
  },
  {
   "cell_type": "code",
   "execution_count": 8,
   "metadata": {
    "tags": []
   },
   "outputs": [
    {
     "output_type": "stream",
     "name": "stdout",
     "text": "0\n1\n2\n次はありません\n"
    }
   ],
   "source": [
    "itr=iter(range(3))\n",
    "d = \"次はありません\"\n",
    "print(next(itr,d))\n",
    "print(next(itr,d))\n",
    "print(next(itr,d))\n",
    "print(next(itr,d))"
   ]
  },
  {
   "cell_type": "code",
   "execution_count": 11,
   "metadata": {
    "tags": []
   },
   "outputs": [
    {
     "output_type": "stream",
     "name": "stdout",
     "text": "s p a m"
    }
   ],
   "source": [
    "class myiterator:\n",
    "    def __init__(self,data):\n",
    "        self.data=data\n",
    "        self.index=0\n",
    "\n",
    "    def __iter__(self):\n",
    "        #myiterator　が__next__()を実装しているのでselfをイテレータとして返す\n",
    "        return self\n",
    "    \n",
    "    def __next__(self):\n",
    "        if self.index == len(self.data):\n",
    "            raise StopIteration()\n",
    "        value = self.data[self.index]\n",
    "        self.index = self.index + 1\n",
    "        return value\n",
    "\n",
    "#シーケンスの一例として文字列を渡す\n",
    "itr=myiterator(\"spam\")\n",
    "for char in itr:\n",
    "    print(char, end=\" \")"
   ]
  },
  {
   "cell_type": "code",
   "execution_count": 12,
   "metadata": {
    "tags": []
   },
   "outputs": [
    {
     "output_type": "stream",
     "name": "stdout",
     "text": "m a p s"
    }
   ],
   "source": [
    "class reverse:\n",
    "    '''シーケンスを逆順にループするイテレータ'''\n",
    "\n",
    "    def __init__(self,data):\n",
    "        self.data = data\n",
    "        self.index = len(data)\n",
    "\n",
    "    def __iter__(self):\n",
    "        return self\n",
    "    \n",
    "    def __next__(self):\n",
    "        if self.index==0:\n",
    "            raise StopIteration\n",
    "        self.index = self.index -1\n",
    "        return self.data[self.index]\n",
    "\n",
    "#シーケンスの一例として文字列を渡す\n",
    "rev = reverse('spam')\n",
    "for char in rev:\n",
    "    print(char, end=\" \")"
   ]
  },
  {
   "cell_type": "code",
   "execution_count": 13,
   "metadata": {
    "tags": []
   },
   "outputs": [
    {
     "output_type": "stream",
     "name": "stdout",
     "text": "f l o g"
    }
   ],
   "source": [
    "def reverse(data):\n",
    "    '''引数に受け取ったシーケンスを逆向きに返す'''\n",
    "    ret=[]\n",
    "    for index in range(len(data)-1,-1,-1):\n",
    "        ret.append(data[index])\n",
    "    return ret\n",
    "\n",
    "#リストをforループのinに添える(forループで反復子が作られる)\n",
    "for char in reverse('golf'):\n",
    "    print(char, end=\" \")"
   ]
  },
  {
   "cell_type": "code",
   "execution_count": 14,
   "metadata": {
    "tags": []
   },
   "outputs": [
    {
     "output_type": "stream",
     "name": "stdout",
     "text": "f l o g"
    }
   ],
   "source": [
    "def reverse(data):\n",
    "    for index in range(len(data)-1,-1,-1):\n",
    "        yield data[index]\n",
    "\n",
    "for char in reverse('golf'):\n",
    "    print(char, end=\" \")"
   ]
  },
  {
   "cell_type": "code",
   "execution_count": 19,
   "metadata": {},
   "outputs": [
    {
     "output_type": "execute_result",
     "data": {
      "text/plain": "['f', 'l', 'o', 'g']"
     },
     "metadata": {},
     "execution_count": 19
    }
   ],
   "source": [
    "data = 'golf'\n",
    "l = [data[i]for i in range(len(data)-1,-1,-1)]\n",
    "l"
   ]
  },
  {
   "cell_type": "code",
   "execution_count": 21,
   "metadata": {},
   "outputs": [
    {
     "output_type": "execute_result",
     "data": {
      "text/plain": "<generator object <genexpr> at 0x05D48A00>"
     },
     "metadata": {},
     "execution_count": 21
    }
   ],
   "source": [
    "g = (data[i]for i in range(len(data)-1,-1,-1))\n",
    "g"
   ]
  },
  {
   "cell_type": "code",
   "execution_count": 22,
   "metadata": {},
   "outputs": [
    {
     "output_type": "execute_result",
     "data": {
      "text/plain": "['f', 'l', 'o', 'g']"
     },
     "metadata": {},
     "execution_count": 22
    }
   ],
   "source": [
    "list(g)"
   ]
  },
  {
   "cell_type": "code",
   "execution_count": 23,
   "metadata": {},
   "outputs": [],
   "source": [
    "import random\n",
    "#何度実行しても同じ結果になるように乱数の種(seed)を固定する\n",
    "random.seed(1)\n",
    "msgs=[\"hi\",\"hello\",\"good morning\",\"good night\",\"see you later\",\"how are you\",\"have a good day\"]\n",
    "with open(\"some.txt\",\"w\")as f:\n",
    "    for i in range(1000000):\n",
    "        f.write(\"{},{}\\n\".format(i,random.choice(msgs)))"
   ]
  },
  {
   "cell_type": "code",
   "execution_count": 25,
   "metadata": {
    "tags": []
   },
   "outputs": [
    {
     "output_type": "stream",
     "name": "stdout",
     "text": "0,hello\n1,see you later\n2,have a good day\n"
    }
   ],
   "source": [
    "f = open('some.txt')\n",
    "c=0\n",
    "for l in f:\n",
    "    print(l,end='')\n",
    "    if c==2:\n",
    "        break\n",
    "    c+=1\n",
    "f.close()"
   ]
  },
  {
   "cell_type": "code",
   "execution_count": 26,
   "metadata": {
    "tags": []
   },
   "outputs": [
    {
     "output_type": "stream",
     "name": "stdout",
     "text": "0,hello\n1,see you later\n2,have a good day\nWall time: 1.32 ms\n"
    }
   ],
   "source": [
    "%%time \n",
    "with open('some.txt','r')as f:\n",
    "    for c, l in enumerate(f):\n",
    "        print(l,end='')\n",
    "        if c==2:\n",
    "            break"
   ]
  },
  {
   "cell_type": "code",
   "execution_count": 27,
   "metadata": {
    "tags": []
   },
   "outputs": [
    {
     "output_type": "stream",
     "name": "stdout",
     "text": "0,hello\n1,see you later\n2,have a good day\n\nWall time: 2.03 ms\n"
    }
   ],
   "source": [
    "%%time\n",
    "f = open('some.txt')\n",
    "lines =''\n",
    "for i in range(3):\n",
    "    lines += f.readline()\n",
    "print(lines)\n",
    "f.close()"
   ]
  },
  {
   "cell_type": "code",
   "execution_count": 28,
   "metadata": {},
   "outputs": [],
   "source": [
    "def gen_prime(x=2):\n",
    "    '''素数を返すジェネレータ関数(1)愚直な方法'''\n",
    "    while True:\n",
    "        for i in range(2,x):\n",
    "            if x%i==0:\n",
    "                break\n",
    "        else:\n",
    "            yield x\n",
    "        x += 1"
   ]
  },
  {
   "cell_type": "code",
   "execution_count": 29,
   "metadata": {},
   "outputs": [],
   "source": [
    "import math\n",
    "def gen_prime1(x=2):\n",
    "    '''素数を返すジェネレータ関数(2)sqrt(x)以下だけ調べる方法'''\n",
    "    while True:\n",
    "        for i in range(2, int(math.sqrt(x))+1):\n",
    "            if x%i==0:\n",
    "                break\n",
    "        else:\n",
    "            yield x\n",
    "        x += 1"
   ]
  },
  {
   "cell_type": "code",
   "execution_count": 30,
   "metadata": {
    "tags": []
   },
   "outputs": [
    {
     "output_type": "stream",
     "name": "stdout",
     "text": "2 3 5 7 11 13 17 19 23 29 \n"
    }
   ],
   "source": [
    "i = gen_prime()\n",
    "for c in range(10):\n",
    "    print(next(i),end=\" \")\n",
    "print(\"\")"
   ]
  },
  {
   "cell_type": "code",
   "execution_count": 32,
   "metadata": {
    "tags": []
   },
   "outputs": [
    {
     "output_type": "stream",
     "name": "stdout",
     "text": "100003 100019 100043 100049 100057100069 100103 100109 100129100151 \nWall time: 569 ms\n"
    }
   ],
   "source": [
    "%%time\n",
    "#(1)愚直な方法\n",
    "i = gen_prime(100000)\n",
    "for c in range(10):\n",
    "    print(next(i),end=\" \")\n",
    "print(\"\")"
   ]
  },
  {
   "cell_type": "code",
   "execution_count": 33,
   "metadata": {
    "tags": []
   },
   "outputs": [
    {
     "output_type": "stream",
     "name": "stdout",
     "text": "100003 100019 100043 100049 100057 100069 100103 100109 100129 100151 \nWall time: 2.37 ms\n"
    }
   ],
   "source": [
    "%%time\n",
    "#(2)sqrt(x)以下だけ調べる方法\n",
    "i = gen_prime1(100000)\n",
    "for c in range(10):\n",
    "    print(next(i),end=\" \")\n",
    "print(\"\")"
   ]
  },
  {
   "cell_type": "code",
   "execution_count": null,
   "metadata": {},
   "outputs": [],
   "source": []
  }
 ]
}