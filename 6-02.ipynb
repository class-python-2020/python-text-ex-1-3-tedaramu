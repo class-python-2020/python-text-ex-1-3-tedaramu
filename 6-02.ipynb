{
 "metadata": {
  "language_info": {
   "codemirror_mode": {
    "name": "ipython",
    "version": 3
   },
   "file_extension": ".py",
   "mimetype": "text/x-python",
   "name": "python",
   "nbconvert_exporter": "python",
   "pygments_lexer": "ipython3",
   "version": "3.8.2-final"
  },
  "orig_nbformat": 2,
  "kernelspec": {
   "name": "python_defaultSpec_1598176251200",
   "display_name": "Python 3.8.2 32-bit"
  }
 },
 "nbformat": 4,
 "nbformat_minor": 2,
 "cells": [
  {
   "cell_type": "code",
   "execution_count": 1,
   "metadata": {
    "tags": []
   },
   "outputs": [
    {
     "output_type": "stream",
     "name": "stdout",
     "text": "abc\negg\nuds\n"
    }
   ],
   "source": [
    "class myclass1:\n",
    "    def __init__(self, text=\"abc\"):\n",
    "        self.text=text\n",
    "\n",
    "a=myclass1()\n",
    "b=myclass1(text=\"egg\")\n",
    "c=myclass1(text=\"uds\")\n",
    "\n",
    "print(a.text)\n",
    "print(b.text)\n",
    "print(c.text)"
   ]
  },
  {
   "cell_type": "code",
   "execution_count": 2,
   "metadata": {},
   "outputs": [
    {
     "output_type": "execute_result",
     "data": {
      "text/plain": "'xyz'"
     },
     "metadata": {},
     "execution_count": 2
    }
   ],
   "source": [
    "a.text = \"xyz\"\n",
    "a.text"
   ]
  },
  {
   "cell_type": "code",
   "execution_count": 3,
   "metadata": {},
   "outputs": [
    {
     "output_type": "execute_result",
     "data": {
      "text/plain": "'another text'"
     },
     "metadata": {},
     "execution_count": 3
    }
   ],
   "source": [
    "a.new_text = \"another text\"\n",
    "a.new_text"
   ]
  },
  {
   "cell_type": "code",
   "execution_count": 4,
   "metadata": {
    "tags": []
   },
   "outputs": [
    {
     "output_type": "stream",
     "name": "stdout",
     "text": "class value\n"
    }
   ],
   "source": [
    "class myclass2:\n",
    "    common_text = \"class value\"\n",
    "\n",
    "print(myclass2.common_text)"
   ]
  },
  {
   "cell_type": "code",
   "execution_count": 5,
   "metadata": {},
   "outputs": [
    {
     "output_type": "execute_result",
     "data": {
      "text/plain": "'new class value'"
     },
     "metadata": {},
     "execution_count": 5
    }
   ],
   "source": [
    "myclass2.common_text=\"new class value\"\n",
    "myclass2.common_text"
   ]
  },
  {
   "cell_type": "code",
   "execution_count": 7,
   "metadata": {},
   "outputs": [
    {
     "output_type": "execute_result",
     "data": {
      "text/plain": "'another attribute member'"
     },
     "metadata": {},
     "execution_count": 7
    }
   ],
   "source": [
    "myclass2.new_common_text = \"another attribute member\"\n",
    "myclass2.new_common_text"
   ]
  },
  {
   "cell_type": "code",
   "execution_count": 8,
   "metadata": {},
   "outputs": [],
   "source": [
    "class triangle:\n",
    "    num_tri = 0\n",
    "\n",
    "    def __init__(self,base=0,height=0):\n",
    "        self.base = base\n",
    "        self.height = height\n",
    "        triangle.num_tri += 1\n",
    "\n",
    "    def find_area(self):\n",
    "        b=self.base\n",
    "        h=self.height\n",
    "        return b* h/2.0"
   ]
  },
  {
   "cell_type": "code",
   "execution_count": 9,
   "metadata": {},
   "outputs": [
    {
     "output_type": "execute_result",
     "data": {
      "text/plain": "0.5"
     },
     "metadata": {},
     "execution_count": 9
    }
   ],
   "source": [
    "t1 = triangle(1,1)\n",
    "t1.find_area()"
   ]
  },
  {
   "cell_type": "code",
   "execution_count": 10,
   "metadata": {},
   "outputs": [
    {
     "output_type": "execute_result",
     "data": {
      "text/plain": "1"
     },
     "metadata": {},
     "execution_count": 10
    }
   ],
   "source": [
    "triangle.num_tri"
   ]
  },
  {
   "cell_type": "code",
   "execution_count": 12,
   "metadata": {},
   "outputs": [
    {
     "output_type": "execute_result",
     "data": {
      "text/plain": "3"
     },
     "metadata": {},
     "execution_count": 12
    }
   ],
   "source": [
    "t2=triangle(2,2)\n",
    "triangle.num_tri"
   ]
  },
  {
   "cell_type": "code",
   "execution_count": 13,
   "metadata": {},
   "outputs": [
    {
     "output_type": "execute_result",
     "data": {
      "text/plain": "4"
     },
     "metadata": {},
     "execution_count": 13
    }
   ],
   "source": [
    "t3 = triangle(3,5)\n",
    "triangle.num_tri"
   ]
  },
  {
   "cell_type": "code",
   "execution_count": 14,
   "metadata": {},
   "outputs": [
    {
     "output_type": "execute_result",
     "data": {
      "text/plain": "(4, 4, 4, 4)"
     },
     "metadata": {},
     "execution_count": 14
    }
   ],
   "source": [
    "t1.num_tri, t2.num_tri, t3.num_tri, triangle.num_tri"
   ]
  },
  {
   "cell_type": "code",
   "execution_count": 15,
   "metadata": {},
   "outputs": [
    {
     "output_type": "execute_result",
     "data": {
      "text/plain": "(5, 4, 4, 4)"
     },
     "metadata": {},
     "execution_count": 15
    }
   ],
   "source": [
    "t1.num_tri = 5\n",
    "t1.num_tri,t2.num_tri,t3.num_tri,triangle.num_tri"
   ]
  },
  {
   "cell_type": "code",
   "execution_count": 16,
   "metadata": {},
   "outputs": [
    {
     "output_type": "execute_result",
     "data": {
      "text/plain": "(5, 6, 6, 6)"
     },
     "metadata": {},
     "execution_count": 16
    }
   ],
   "source": [
    "triangle.num_tri = 6\n",
    "t1.num_tri, t2.num_tri, t3.num_tri, triangle.num_tri"
   ]
  },
  {
   "cell_type": "code",
   "execution_count": 17,
   "metadata": {},
   "outputs": [],
   "source": [
    "class sample:\n",
    "    def __init__(self):\n",
    "        self.a = 1\n",
    "        self._b = 1\n",
    "        self.__c = 1\n",
    "        self.__d_ = 1\n",
    "        self.__e__ = 1\n",
    "\n",
    "    def show_attribute(self):\n",
    "        a=self.a\n",
    "        b=self._b\n",
    "        c=self.__c\n",
    "        d=self.__d_\n",
    "        e=self.__e__\n",
    "        print(\"a:{}, b:{}, c:{}, d:{}. e:{}\".format(a,b,c,d,e))"
   ]
  },
  {
   "cell_type": "code",
   "execution_count": 18,
   "metadata": {
    "tags": []
   },
   "outputs": [
    {
     "output_type": "stream",
     "name": "stdout",
     "text": "a:1, b:1, c:1, d:1. e:1\n"
    }
   ],
   "source": [
    "s=sample()\n",
    "s.show_attribute()"
   ]
  },
  {
   "cell_type": "code",
   "execution_count": 19,
   "metadata": {},
   "outputs": [
    {
     "output_type": "execute_result",
     "data": {
      "text/plain": "1"
     },
     "metadata": {},
     "execution_count": 19
    }
   ],
   "source": [
    "s._b"
   ]
  },
  {
   "cell_type": "code",
   "execution_count": 20,
   "metadata": {},
   "outputs": [
    {
     "output_type": "error",
     "ename": "AttributeError",
     "evalue": "'sample' object has no attribute '__c'",
     "traceback": [
      "\u001b[1;31m---------------------------------------------------------------------------\u001b[0m",
      "\u001b[1;31mAttributeError\u001b[0m                            Traceback (most recent call last)",
      "\u001b[1;32m<ipython-input-20-85e4a3ad4e9c>\u001b[0m in \u001b[0;36m<module>\u001b[1;34m\u001b[0m\n\u001b[1;32m----> 1\u001b[1;33m \u001b[0ms\u001b[0m\u001b[1;33m.\u001b[0m\u001b[0m__c\u001b[0m\u001b[1;33m\u001b[0m\u001b[1;33m\u001b[0m\u001b[0m\n\u001b[0m",
      "\u001b[1;31mAttributeError\u001b[0m: 'sample' object has no attribute '__c'"
     ]
    }
   ],
   "source": [
    "s.__c"
   ]
  },
  {
   "cell_type": "code",
   "execution_count": 22,
   "metadata": {},
   "outputs": [
    {
     "output_type": "execute_result",
     "data": {
      "text/plain": "(2, 2, 2, 2, 2)"
     },
     "metadata": {},
     "execution_count": 22
    }
   ],
   "source": [
    "s.a=2\n",
    "s._b=2\n",
    "s.__c=2\n",
    "s.__d_=2\n",
    "s.__e__=2\n",
    "s.a, s._b, s.__c, s.__d_,s.__e__"
   ]
  },
  {
   "cell_type": "code",
   "execution_count": 23,
   "metadata": {},
   "outputs": [
    {
     "output_type": "execute_result",
     "data": {
      "text/plain": "(1, 1)"
     },
     "metadata": {},
     "execution_count": 23
    }
   ],
   "source": [
    "s._sample__c, s._sample__d_"
   ]
  },
  {
   "cell_type": "code",
   "execution_count": 25,
   "metadata": {},
   "outputs": [],
   "source": [
    "class cylinder:\n",
    "    '''円柱'''\n",
    "    pi = 3.14\n",
    "\n",
    "    def __init__(self,radius,height):\n",
    "        '''円柱を特徴づける属性'''\n",
    "        self.radius = float(radius)\n",
    "        self.height = float(height)\n",
    "\n",
    "    def calc_bese_area(self):\n",
    "        '''底面積を計算'''\n",
    "        pi=cylinder.pi\n",
    "        r=self.radius\n",
    "        return pi * r* r\n",
    "\n",
    "    def calc_side_area(self):\n",
    "        '''側面席を計算'''\n",
    "        pi=cylinder.pi\n",
    "        r=self.radius\n",
    "        h=self.height\n",
    "        return 2* pi*r*h\n",
    "    \n",
    "    def calc_surface_area(self):\n",
    "        '''表面積を計算'''\n",
    "        c=self.calc_bese_area()\n",
    "        s=self.calc_side_area()\n",
    "        return c*h\n",
    "\n",
    "    def show_results(self):\n",
    "        '''属性と計算結果を見せる'''\n",
    "        r=self.radius\n",
    "        h=self.height\n",
    "        s=self.calc_surface_area()\n",
    "        v=self.calc_volume()\n",
    "        print('半径:{},高さ:{},表面積:{},体積:{}'.format(r,h,s,v))"
   ]
  },
  {
   "cell_type": "code",
   "execution_count": 27,
   "metadata": {},
   "outputs": [
    {
     "output_type": "error",
     "ename": "TypeError",
     "evalue": "__init__() missing 2 required positional arguments: 'radius' and 'height'",
     "traceback": [
      "\u001b[1;31m---------------------------------------------------------------------------\u001b[0m",
      "\u001b[1;31mTypeError\u001b[0m                                 Traceback (most recent call last)",
      "\u001b[1;32m<ipython-input-27-1968a6e89e85>\u001b[0m in \u001b[0;36m<module>\u001b[1;34m\u001b[0m\n\u001b[1;32m----> 1\u001b[1;33m \u001b[0mc1\u001b[0m \u001b[1;33m=\u001b[0m \u001b[0mcylinder\u001b[0m\u001b[1;33m(\u001b[0m\u001b[1;33m)\u001b[0m\u001b[1;33m\u001b[0m\u001b[1;33m\u001b[0m\u001b[0m\n\u001b[0m\u001b[0;32m      2\u001b[0m \u001b[0mc1\u001b[0m\u001b[1;33m.\u001b[0m\u001b[0mshow_results\u001b[0m\u001b[1;33m(\u001b[0m\u001b[1;33m)\u001b[0m\u001b[1;33m\u001b[0m\u001b[1;33m\u001b[0m\u001b[0m\n\u001b[0;32m      3\u001b[0m \u001b[0mc2\u001b[0m\u001b[1;33m=\u001b[0m\u001b[0mcylinder\u001b[0m\u001b[1;33m(\u001b[0m\u001b[1;36m1.\u001b[0m\u001b[1;33m,\u001b[0m\u001b[1;36m3.\u001b[0m\u001b[1;33m)\u001b[0m\u001b[1;33m\u001b[0m\u001b[1;33m\u001b[0m\u001b[0m\n\u001b[0;32m      4\u001b[0m \u001b[0mc2\u001b[0m\u001b[1;33m.\u001b[0m\u001b[0mshow_results\u001b[0m\u001b[1;33m(\u001b[0m\u001b[1;33m)\u001b[0m\u001b[1;33m\u001b[0m\u001b[1;33m\u001b[0m\u001b[0m\n\u001b[0;32m      5\u001b[0m \u001b[0mc3\u001b[0m\u001b[1;33m=\u001b[0m\u001b[0mcylinder\u001b[0m\u001b[1;33m(\u001b[0m\u001b[1;36m2.\u001b[0m\u001b[1;33m,\u001b[0m\u001b[1;36m1.\u001b[0m\u001b[1;33m)\u001b[0m\u001b[1;33m\u001b[0m\u001b[1;33m\u001b[0m\u001b[0m\n",
      "\u001b[1;31mTypeError\u001b[0m: __init__() missing 2 required positional arguments: 'radius' and 'height'"
     ]
    }
   ],
   "source": [
    "c1 = cylinder()\n",
    "c1.show_results()\n",
    "c2=cylinder(1.,3.)\n",
    "c2.show_results()\n",
    "c3=cylinder(2.,1.)\n",
    "c3.show_results()\n",
    "c4=cylinder(2.,3.)\n",
    "c4.show_results()"
   ]
  },
  {
   "cell_type": "code",
   "execution_count": null,
   "metadata": {},
   "outputs": [],
   "source": []
  }
 ]
}